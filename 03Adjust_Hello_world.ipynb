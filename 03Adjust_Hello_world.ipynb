{
 "cells": [
  {
   "cell_type": "code",
   "execution_count": 1,
   "metadata": {
    "collapsed": false
   },
   "outputs": [],
   "source": [
    "#import module\n",
    "import requests"
   ]
  },
  {
   "cell_type": "code",
   "execution_count": 2,
   "metadata": {
    "collapsed": true
   },
   "outputs": [],
   "source": [
    "#define function\n",
    "def get_content(url):\n",
    "    resp = requests.get(url) # get & post\n",
    "    return resp.text"
   ]
  },
  {
   "cell_type": "code",
   "execution_count": 3,
   "metadata": {
    "collapsed": false
   },
   "outputs": [
    {
     "name": "stdout",
     "output_type": "stream",
     "text": [
      "Top 50 Char: <html>\n",
      "<head>\n",
      "<meta http-equiv=\"Content-Type\" cont\n",
      "len content: 102494\n",
      "Yes, it is\n"
     ]
    }
   ],
   "source": [
    "if __name__ == '__main__':\n",
    "    url=\"http://www.phei.com.cn/\"\n",
    "    content=get_content(url)\n",
    "    print(\"Top 50 Char:\",content[0:50])\n",
    "    \n",
    "    # content len\n",
    "    content_len = len(content)\n",
    "    print(\"len content:\",content_len)\n",
    "\n",
    "    # len content is bigger than 40KB?\n",
    "    if content_len >=40*1024:\n",
    "        print(\"Yes, it is\")\n",
    "    else:\n",
    "        print(\"No, it is not\")"
   ]
  },
  {
   "cell_type": "code",
   "execution_count": null,
   "metadata": {
    "collapsed": true
   },
   "outputs": [],
   "source": [
    "# save as MoCrawler2.py"
   ]
  }
 ],
 "metadata": {
  "anaconda-cloud": {},
  "kernelspec": {
   "display_name": "Python [default]",
   "language": "python",
   "name": "python3"
  },
  "language_info": {
   "codemirror_mode": {
    "name": "ipython",
    "version": 3
   },
   "file_extension": ".py",
   "mimetype": "text/x-python",
   "name": "python",
   "nbconvert_exporter": "python",
   "pygments_lexer": "ipython3",
   "version": "3.5.2"
  }
 },
 "nbformat": 4,
 "nbformat_minor": 1
}
