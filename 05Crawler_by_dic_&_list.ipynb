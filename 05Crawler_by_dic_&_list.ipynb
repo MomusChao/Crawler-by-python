{
 "cells": [
  {
   "cell_type": "code",
   "execution_count": 1,
   "metadata": {
    "collapsed": true
   },
   "outputs": [],
   "source": [
    "import requests"
   ]
  },
  {
   "cell_type": "code",
   "execution_count": 2,
   "metadata": {
    "collapsed": true
   },
   "outputs": [],
   "source": [
    "urls_dict = {\n",
    "    'Pubishing House of Electronics Industry':'http://www.phei.com.cn/',\n",
    "    'TMU':'http://www.tmu.edu.tw/english/main.php'\n",
    "}"
   ]
  },
  {
   "cell_type": "code",
   "execution_count": 3,
   "metadata": {
    "collapsed": true
   },
   "outputs": [],
   "source": [
    "urls_lst=[\n",
    "    ('Pubishing House of Electronics Industry','http://www.phei.com.cn/'),\n",
    "    ('TMU','http://www.tmu.edu.tw/english/main.php')\n",
    "]"
   ]
  },
  {
   "cell_type": "markdown",
   "metadata": {},
   "source": [
    "# Crawler by dic"
   ]
  },
  {
   "cell_type": "code",
   "execution_count": 4,
   "metadata": {
    "collapsed": true
   },
   "outputs": [],
   "source": [
    "crawled_urls_for_dict = set()"
   ]
  },
  {
   "cell_type": "code",
   "execution_count": 5,
   "metadata": {
    "collapsed": false
   },
   "outputs": [
    {
     "name": "stdout",
     "output_type": "stream",
     "text": [
      "Crawled:0Pubishing House of Electronics Industry,content len102494\n",
      "Crawled:1TMU,content len26687\n"
     ]
    }
   ],
   "source": [
    "for ind,name in enumerate(urls_dict.keys()): #get key form dict\n",
    "    name_url = urls_dict[name] #get url\n",
    "    if name_url in crawled_urls_for_dict:\n",
    "        print(ind,name,\"Crawled Already!\")\n",
    "    else:\n",
    "        try:\n",
    "            resp = requests.get(name_url) #crawler here\n",
    "        except Exception as e: #e: error\n",
    "            print(ind,name,\":\",str(e)[0:50]) #print top 50 charts about error info\n",
    "            continue\n",
    "        content = resp.text\n",
    "        crawled_urls_for_dict.add(name_url) #save used urls \n",
    "        with open('bydict_'+name+'.html','w',encoding='utf8') as f: # save content\n",
    "            f.write(content)\n",
    "            print(\"Crawled:{}{},content len{}\".format(ind,name,len(content)))"
   ]
  },
  {
   "cell_type": "code",
   "execution_count": 6,
   "metadata": {
    "collapsed": false
   },
   "outputs": [
    {
     "name": "stdout",
     "output_type": "stream",
     "text": [
      "http://www.phei.com.cn/\n",
      "http://www.tmu.edu.tw/english/main.php\n"
     ]
    }
   ],
   "source": [
    "for u in crawled_urls_for_dict:\n",
    "    print(u)"
   ]
  },
  {
   "cell_type": "markdown",
   "metadata": {},
   "source": [
    "# Crawler by list"
   ]
  },
  {
   "cell_type": "code",
   "execution_count": 8,
   "metadata": {
    "collapsed": true
   },
   "outputs": [],
   "source": [
    "crawled_urls_for_list = set()"
   ]
  },
  {
   "cell_type": "code",
   "execution_count": 12,
   "metadata": {
    "collapsed": false
   },
   "outputs": [
    {
     "name": "stdout",
     "output_type": "stream",
     "text": [
      "Crawled:0Pubishing House of Electronics Industry,content len102494\n",
      "Crawled:1TMU,content len26687\n"
     ]
    }
   ],
   "source": [
    "for ind,tup in enumerate(urls_lst):\n",
    "    name = tup[0]\n",
    "    name_url = tup[1]\n",
    "    if name_url in crawled_urls_for_list:\n",
    "        print(ind,name,\"Crawled Already!\")\n",
    "    else:\n",
    "        try:\n",
    "            resp = requests.get(name_url)\n",
    "        except Exception as e:\n",
    "            print(ind,name,':',str(e)[0:50])\n",
    "            continue\n",
    "        content = resp.text\n",
    "        crawled_urls_for_list.add(name_url)\n",
    "        with open('bylist_'+name+'.html','w',encoding='utf8') as f:\n",
    "            f.write(content)\n",
    "            print(\"Crawled:{}{},content len{}\".format(ind,name,len(content)))"
   ]
  },
  {
   "cell_type": "code",
   "execution_count": 13,
   "metadata": {
    "collapsed": false
   },
   "outputs": [
    {
     "name": "stdout",
     "output_type": "stream",
     "text": [
      "http://www.phei.com.cn/\n",
      "http://www.tmu.edu.tw/english/main.php\n"
     ]
    }
   ],
   "source": [
    "for u in crawled_urls_for_list:\n",
    "    print(u)"
   ]
  }
 ],
 "metadata": {
  "anaconda-cloud": {},
  "kernelspec": {
   "display_name": "Python [default]",
   "language": "python",
   "name": "python3"
  },
  "language_info": {
   "codemirror_mode": {
    "name": "ipython",
    "version": 3
   },
   "file_extension": ".py",
   "mimetype": "text/x-python",
   "name": "python",
   "nbconvert_exporter": "python",
   "pygments_lexer": "ipython3",
   "version": "3.5.2"
  }
 },
 "nbformat": 4,
 "nbformat_minor": 1
}
