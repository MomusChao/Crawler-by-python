{
 "cells": [
  {
   "cell_type": "code",
   "execution_count": null,
   "metadata": {
    "collapsed": true
   },
   "outputs": [],
   "source": [
    "#PhantomJS\n",
    "from selenium import webdriver\n",
    "\n",
    "driver = webdriver.PhantomJS(executable_path=r'D:\\phantomjs.exe')  # input PhantomJs path\n",
    "driver.get('http://www.ntu.edu.tw/')  # imput URL \n",
    "pageSource = driver.page_source  # get web original code\n",
    "print(pageSource)\n",
    "\n",
    "driver.close()  # close explorer"
   ]
  }
 ],
 "metadata": {
  "anaconda-cloud": {},
  "kernelspec": {
   "display_name": "Python [default]",
   "language": "python",
   "name": "python3"
  },
  "language_info": {
   "codemirror_mode": {
    "name": "ipython",
    "version": 3
   },
   "file_extension": ".py",
   "mimetype": "text/x-python",
   "name": "python",
   "nbconvert_exporter": "python",
   "pygments_lexer": "ipython3",
   "version": "3.5.2"
  }
 },
 "nbformat": 4,
 "nbformat_minor": 1
}
