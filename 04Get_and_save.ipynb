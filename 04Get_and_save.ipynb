{
 "cells": [
  {
   "cell_type": "code",
   "execution_count": 1,
   "metadata": {
    "collapsed": true
   },
   "outputs": [],
   "source": [
    "#import module\n",
    "import requests"
   ]
  },
  {
   "cell_type": "code",
   "execution_count": 2,
   "metadata": {
    "collapsed": true
   },
   "outputs": [],
   "source": [
    "#define function\n",
    "def get_content(url):\n",
    "    resp = requests.get(url) # get & post\n",
    "    return resp.text"
   ]
  },
  {
   "cell_type": "code",
   "execution_count": 3,
   "metadata": {
    "collapsed": false
   },
   "outputs": [
    {
     "name": "stdout",
     "output_type": "stream",
     "text": [
      "Top 50 Char: <html>\n",
      "<head>\n",
      "<meta http-equiv=\"Content-Type\" cont\n",
      "len content: 102494\n"
     ]
    }
   ],
   "source": [
    "url=\"http://www.phei.com.cn/\"\n",
    "content=get_content(url)\n",
    "print(\"Top 50 Char:\",content[0:50])\n",
    "    \n",
    "# content len\n",
    "content_len = len(content)\n",
    "print(\"len content:\",content_len)\n"
   ]
  },
  {
   "cell_type": "markdown",
   "metadata": {},
   "source": [
    "# Method 01: write, read & close\n"
   ]
  },
  {
   "cell_type": "code",
   "execution_count": 13,
   "metadata": {
    "collapsed": false
   },
   "outputs": [],
   "source": [
    "# write\n",
    "f1 = open('home_page.html','w',encoding='utf8')\n",
    "f1.write(content)\n",
    "f1.close()"
   ]
  },
  {
   "cell_type": "code",
   "execution_count": 16,
   "metadata": {
    "collapsed": false
   },
   "outputs": [],
   "source": [
    "# read\n",
    "f2 = open('home_page.html','r',encoding = 'utf8')\n",
    "content_read = f2.read()"
   ]
  },
  {
   "cell_type": "code",
   "execution_count": 17,
   "metadata": {
    "collapsed": false
   },
   "outputs": [
    {
     "name": "stdout",
     "output_type": "stream",
     "text": [
      "TOP 50 content:  <html>\n",
      "<head>\n",
      "<meta http-equiv=\"Content-Type\" cont\n"
     ]
    }
   ],
   "source": [
    "print(\"TOP 50 content: \",content_read[0:50])"
   ]
  },
  {
   "cell_type": "code",
   "execution_count": 18,
   "metadata": {
    "collapsed": true
   },
   "outputs": [],
   "source": [
    "#close\n",
    "f2.close()"
   ]
  },
  {
   "cell_type": "markdown",
   "metadata": {},
   "source": [
    "# Method 02"
   ]
  },
  {
   "cell_type": "code",
   "execution_count": 5,
   "metadata": {
    "collapsed": true
   },
   "outputs": [],
   "source": [
    "# write\n",
    "with open('home_page_2.html','w',encoding='utf8') as f3:\n",
    "    f3.write(content)"
   ]
  },
  {
   "cell_type": "code",
   "execution_count": 7,
   "metadata": {
    "collapsed": false
   },
   "outputs": [
    {
     "name": "stdout",
     "output_type": "stream",
     "text": [
      "TOP 50 content:  <html>\n",
      "<head>\n",
      "<meta http-equiv=\"Content-Type\" cont\n"
     ]
    }
   ],
   "source": [
    "# read\n",
    "with open('home_page_2.html','r',encoding='utf8') as f4:\n",
    "    content_read_2 = f4.read()\n",
    "    print(\"TOP 50 content: \",content_read_2[0:50])"
   ]
  },
  {
   "cell_type": "markdown",
   "metadata": {},
   "source": [
    "w:write\n",
    "a:append\n",
    "r:read"
   ]
  },
  {
   "cell_type": "markdown",
   "metadata": {
    "collapsed": true
   },
   "source": [
    "# Extend reading"
   ]
  },
  {
   "cell_type": "markdown",
   "metadata": {},
   "source": [
    "https://blog.gtwang.org/programming/python-with-context-manager-tutorial/"
   ]
  }
 ],
 "metadata": {
  "kernelspec": {
   "display_name": "Python [default]",
   "language": "python",
   "name": "python3"
  },
  "language_info": {
   "codemirror_mode": {
    "name": "ipython",
    "version": 3
   },
   "file_extension": ".py",
   "mimetype": "text/x-python",
   "name": "python",
   "nbconvert_exporter": "python",
   "pygments_lexer": "ipython3",
   "version": "3.5.2"
  }
 },
 "nbformat": 4,
 "nbformat_minor": 1
}
